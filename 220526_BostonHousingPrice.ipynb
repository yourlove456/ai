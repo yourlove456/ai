{
  "nbformat": 4,
  "nbformat_minor": 0,
  "metadata": {
    "colab": {
      "name": "MLP_ipynb의_emtpy.ipynb",
      "provenance": [],
      "collapsed_sections": [
        "wwg3JWBQZuNt"
      ]
    },
    "kernelspec": {
      "name": "python3",
      "display_name": "Python 3"
    },
    "accelerator": "GPU"
  },
  "cells": [
    {
      "cell_type": "markdown",
      "metadata": {
        "id": "wwg3JWBQZuNt"
      },
      "source": [
        "### MLP (multi-layer perceptron, fully-connected)\n",
        "#### - regression, classification"
      ]
    },
    {
      "cell_type": "markdown",
      "metadata": {
        "id": "oRXhGVcBcOsz"
      },
      "source": [
        "### 1. Regression\n",
        "#### - use the last score as prediction score\n",
        "#### - datasets: https://keras.io/api/datasets/\n",
        "\n",
        "#### - Boston housing price dataset (regression)\n"
      ]
    },
    {
      "cell_type": "code",
      "metadata": {
        "id": "hvUUxKErcP1t",
        "colab": {
          "base_uri": "https://localhost:8080/"
        },
        "outputId": "cc102392-978b-4b6f-869d-350819db64dd"
      },
      "source": [
        "import numpy as np\n",
        "from tensorflow import keras\n",
        "from tensorflow.keras import layers\n",
        "import copy\n",
        "\n",
        "## Dataset load\n",
        "(train_x, train_y), (test_x, test_y) = keras.datasets.boston_housing.load_data(path=\"boston_housing.npz\", test_split=0.2, seed=1234)\n",
        "## train-test split\n"
      ],
      "execution_count": null,
      "outputs": [
        {
          "output_type": "stream",
          "name": "stdout",
          "text": [
            "Downloading data from https://storage.googleapis.com/tensorflow/tf-keras-datasets/boston_housing.npz\n",
            "57344/57026 [==============================] - 0s 0us/step\n",
            "65536/57026 [==================================] - 0s 0us/step\n"
          ]
        }
      ]
    },
    {
      "cell_type": "code",
      "source": [
        "## Data sample\n",
        "print(\"training shape\")\n",
        "print(train_x.shape)\n",
        "print(train_y.shape)\n",
        "\n",
        "print(\"test_shape\")\n",
        "print(test_x.shape)\n",
        "print(test_y.shape)"
      ],
      "metadata": {
        "id": "tdc57Ya5P4LD",
        "colab": {
          "base_uri": "https://localhost:8080/"
        },
        "outputId": "b3c86c0d-f64b-4080-b1ca-53fd70006d4c"
      },
      "execution_count": null,
      "outputs": [
        {
          "output_type": "stream",
          "name": "stdout",
          "text": [
            "training shape\n",
            "(404, 13)\n",
            "(404,)\n",
            "test_shape\n",
            "(102, 13)\n",
            "(102,)\n"
          ]
        }
      ]
    },
    {
      "cell_type": "markdown",
      "source": [
        "## 1.1 데이터 *전처리* (정규화)\n",
        "Standard deviation에 의한 정규화"
      ],
      "metadata": {
        "id": "LOJZKwmWwFaZ"
      }
    },
    {
      "cell_type": "code",
      "source": [
        "## Normalization \n",
        "x_mean = train_x.mean(axis=0)\n",
        "x_std = train_x.std(axis=0)\n",
        "train_x -= x_mean\n",
        "train_x /= x_std\n",
        "test_x -= x_mean\n",
        "test_x /= x_std\n",
        "\n",
        "y_mean = train_y.mean(axis=0)\n",
        "y_std = train_y.std(axis=0)\n",
        "test_y_orig = copy.copy(test_y)\n",
        "train_y -= y_mean\n",
        "train_y /= y_std\n",
        "test_y -= y_mean\n",
        "test_y /= y_std\n",
        "#########################################\n",
        "print(\"y_mean\", y_mean)\n",
        "print(\"y_std\", y_std)\n",
        "print(\"-\"*30)\n",
        "print(\"y_answer\", test_y_orig[0:5])\n",
        "print(\"y_answer(normalized)\", test_y[0:5])\n",
        "print(\"train_x_features\", train_x[0])\n",
        "print(\"train_y_features\", train_y[0])"
      ],
      "metadata": {
        "id": "ePKXN3aFwUVf",
        "colab": {
          "base_uri": "https://localhost:8080/"
        },
        "outputId": "f8dc7fbf-a467-41eb-9733-85ae0a1a7e4c"
      },
      "execution_count": null,
      "outputs": [
        {
          "output_type": "stream",
          "name": "stdout",
          "text": [
            "y_mean 22.42673267326732\n",
            "y_std 9.163389176814665\n",
            "------------------------------\n",
            "y_answer [24.  22.1 17.5 19.3 24.8]\n",
            "y_answer(normalized) [ 0.17169055 -0.03565631 -0.53765398 -0.34122011  0.25899449]\n",
            "train_x_features [-0.44458463  0.23504295 -1.42333199 -0.27288841 -1.20937482  1.14591257\n",
            " -0.35066532  2.5278866  -0.75812654 -1.14966148  0.06421968  0.40690187\n",
            " -0.66139028]\n",
            "train_y_features 1.153859900819809\n"
          ]
        }
      ]
    },
    {
      "cell_type": "code",
      "metadata": {
        "id": "Tixdf84Cc8Oi",
        "colab": {
          "base_uri": "https://localhost:8080/"
        },
        "outputId": "dac33d7b-ac44-478a-f160-86f8816ebd42"
      },
      "source": [
        "## Model definition\n",
        "model = keras.Sequential([\n",
        "  keras.layers.Dense(units=64, activation='elu', input_shape=(13,)), \n",
        "  keras.layers.Dense(units=64, activation='elu'), \n",
        "  keras.layers.Dense(units=32, activation='elu'), \n",
        "  keras.layers.Dense(units=1)\n",
        "])\n",
        "\n",
        "model.compile(optimizer=keras.optimizers.Adam(lr=0.07), loss='mse', metrics=['mse'])\n",
        "model.summary()"
      ],
      "execution_count": null,
      "outputs": [
        {
          "output_type": "stream",
          "name": "stdout",
          "text": [
            "Model: \"sequential\"\n",
            "_________________________________________________________________\n",
            " Layer (type)                Output Shape              Param #   \n",
            "=================================================================\n",
            " dense (Dense)               (None, 64)                896       \n",
            "                                                                 \n",
            " dense_1 (Dense)             (None, 64)                4160      \n",
            "                                                                 \n",
            " dense_2 (Dense)             (None, 32)                2080      \n",
            "                                                                 \n",
            " dense_3 (Dense)             (None, 1)                 33        \n",
            "                                                                 \n",
            "=================================================================\n",
            "Total params: 7,169\n",
            "Trainable params: 7,169\n",
            "Non-trainable params: 0\n",
            "_________________________________________________________________\n"
          ]
        },
        {
          "output_type": "stream",
          "name": "stderr",
          "text": [
            "/usr/local/lib/python3.7/dist-packages/keras/optimizer_v2/adam.py:105: UserWarning: The `lr` argument is deprecated, use `learning_rate` instead.\n",
            "  super(Adam, self).__init__(name, **kwargs)\n"
          ]
        }
      ]
    },
    {
      "cell_type": "code",
      "metadata": {
        "id": "zngpBtGMdnB2",
        "colab": {
          "base_uri": "https://localhost:8080/"
        },
        "outputId": "10a87d4a-1d6c-477b-ee76-af1c90ba2979"
      },
      "source": [
        "## Train setting\n",
        "batch_size = 32\n",
        "epochs = 200\n",
        "\n",
        "history = model.fit(train_x, train_y, batch_size = batch_size, epochs = epochs, validation_split=0.25, callbacks=[keras.callbacks.EarlyStopping(patience=20, monitor='val_loss')])\n",
        "\n"
      ],
      "execution_count": null,
      "outputs": [
        {
          "output_type": "stream",
          "name": "stdout",
          "text": [
            "Epoch 1/200\n",
            "10/10 [==============================] - 3s 20ms/step - loss: 67.2604 - mse: 67.2604 - val_loss: 5.1196 - val_mse: 5.1196\n",
            "Epoch 2/200\n",
            "10/10 [==============================] - 0s 7ms/step - loss: 3.1655 - mse: 3.1655 - val_loss: 1.7656 - val_mse: 1.7656\n",
            "Epoch 3/200\n",
            "10/10 [==============================] - 0s 21ms/step - loss: 1.2025 - mse: 1.2025 - val_loss: 1.7673 - val_mse: 1.7673\n",
            "Epoch 4/200\n",
            "10/10 [==============================] - 0s 13ms/step - loss: 1.6741 - mse: 1.6741 - val_loss: 1.1173 - val_mse: 1.1173\n",
            "Epoch 5/200\n",
            "10/10 [==============================] - 0s 6ms/step - loss: 0.7053 - mse: 0.7053 - val_loss: 0.6175 - val_mse: 0.6175\n",
            "Epoch 6/200\n",
            "10/10 [==============================] - 0s 5ms/step - loss: 0.3584 - mse: 0.3584 - val_loss: 0.3453 - val_mse: 0.3453\n",
            "Epoch 7/200\n",
            "10/10 [==============================] - 0s 5ms/step - loss: 0.3059 - mse: 0.3059 - val_loss: 0.3856 - val_mse: 0.3856\n",
            "Epoch 8/200\n",
            "10/10 [==============================] - 0s 6ms/step - loss: 0.2845 - mse: 0.2845 - val_loss: 0.3397 - val_mse: 0.3397\n",
            "Epoch 9/200\n",
            "10/10 [==============================] - 0s 6ms/step - loss: 0.2730 - mse: 0.2730 - val_loss: 0.2274 - val_mse: 0.2274\n",
            "Epoch 10/200\n",
            "10/10 [==============================] - 0s 5ms/step - loss: 0.2102 - mse: 0.2102 - val_loss: 0.2229 - val_mse: 0.2229\n",
            "Epoch 11/200\n",
            "10/10 [==============================] - 0s 7ms/step - loss: 0.1897 - mse: 0.1897 - val_loss: 0.2110 - val_mse: 0.2110\n",
            "Epoch 12/200\n",
            "10/10 [==============================] - 0s 7ms/step - loss: 0.1661 - mse: 0.1661 - val_loss: 0.2306 - val_mse: 0.2306\n",
            "Epoch 13/200\n",
            "10/10 [==============================] - 0s 23ms/step - loss: 0.1898 - mse: 0.1898 - val_loss: 0.2086 - val_mse: 0.2086\n",
            "Epoch 14/200\n",
            "10/10 [==============================] - 0s 11ms/step - loss: 0.1759 - mse: 0.1759 - val_loss: 0.1966 - val_mse: 0.1966\n",
            "Epoch 15/200\n",
            "10/10 [==============================] - 0s 11ms/step - loss: 0.1428 - mse: 0.1428 - val_loss: 0.1688 - val_mse: 0.1688\n",
            "Epoch 16/200\n",
            "10/10 [==============================] - 0s 5ms/step - loss: 0.1536 - mse: 0.1536 - val_loss: 0.1713 - val_mse: 0.1713\n",
            "Epoch 17/200\n",
            "10/10 [==============================] - 0s 7ms/step - loss: 0.1780 - mse: 0.1780 - val_loss: 0.2059 - val_mse: 0.2059\n",
            "Epoch 18/200\n",
            "10/10 [==============================] - 0s 5ms/step - loss: 0.1589 - mse: 0.1589 - val_loss: 0.1725 - val_mse: 0.1725\n",
            "Epoch 19/200\n",
            "10/10 [==============================] - 0s 7ms/step - loss: 0.1352 - mse: 0.1352 - val_loss: 0.1541 - val_mse: 0.1541\n",
            "Epoch 20/200\n",
            "10/10 [==============================] - 0s 7ms/step - loss: 0.1284 - mse: 0.1284 - val_loss: 0.1629 - val_mse: 0.1629\n",
            "Epoch 21/200\n",
            "10/10 [==============================] - 0s 6ms/step - loss: 0.1364 - mse: 0.1364 - val_loss: 0.1538 - val_mse: 0.1538\n",
            "Epoch 22/200\n",
            "10/10 [==============================] - 0s 8ms/step - loss: 0.1122 - mse: 0.1122 - val_loss: 0.1110 - val_mse: 0.1110\n",
            "Epoch 23/200\n",
            "10/10 [==============================] - 0s 20ms/step - loss: 0.1099 - mse: 0.1099 - val_loss: 0.1264 - val_mse: 0.1264\n",
            "Epoch 24/200\n",
            "10/10 [==============================] - 0s 17ms/step - loss: 0.1094 - mse: 0.1094 - val_loss: 0.1112 - val_mse: 0.1112\n",
            "Epoch 25/200\n",
            "10/10 [==============================] - 0s 6ms/step - loss: 0.1085 - mse: 0.1085 - val_loss: 0.1244 - val_mse: 0.1244\n",
            "Epoch 26/200\n",
            "10/10 [==============================] - 0s 7ms/step - loss: 0.1078 - mse: 0.1078 - val_loss: 0.1080 - val_mse: 0.1080\n",
            "Epoch 27/200\n",
            "10/10 [==============================] - 0s 7ms/step - loss: 0.1028 - mse: 0.1028 - val_loss: 0.0990 - val_mse: 0.0990\n",
            "Epoch 28/200\n",
            "10/10 [==============================] - 0s 5ms/step - loss: 0.1048 - mse: 0.1048 - val_loss: 0.1362 - val_mse: 0.1362\n",
            "Epoch 29/200\n",
            "10/10 [==============================] - 0s 5ms/step - loss: 0.1192 - mse: 0.1192 - val_loss: 0.1145 - val_mse: 0.1145\n",
            "Epoch 30/200\n",
            "10/10 [==============================] - 0s 7ms/step - loss: 0.1193 - mse: 0.1193 - val_loss: 0.1526 - val_mse: 0.1526\n",
            "Epoch 31/200\n",
            "10/10 [==============================] - 0s 6ms/step - loss: 0.1470 - mse: 0.1470 - val_loss: 0.1513 - val_mse: 0.1513\n",
            "Epoch 32/200\n",
            "10/10 [==============================] - 0s 7ms/step - loss: 0.1225 - mse: 0.1225 - val_loss: 0.1300 - val_mse: 0.1300\n",
            "Epoch 33/200\n",
            "10/10 [==============================] - 0s 9ms/step - loss: 0.1063 - mse: 0.1063 - val_loss: 0.1205 - val_mse: 0.1205\n",
            "Epoch 34/200\n",
            "10/10 [==============================] - 0s 7ms/step - loss: 0.1252 - mse: 0.1252 - val_loss: 0.2101 - val_mse: 0.2101\n",
            "Epoch 35/200\n",
            "10/10 [==============================] - 0s 6ms/step - loss: 0.1707 - mse: 0.1707 - val_loss: 0.1346 - val_mse: 0.1346\n",
            "Epoch 36/200\n",
            "10/10 [==============================] - 0s 7ms/step - loss: 0.1365 - mse: 0.1365 - val_loss: 0.1292 - val_mse: 0.1292\n",
            "Epoch 37/200\n",
            "10/10 [==============================] - 0s 7ms/step - loss: 0.1289 - mse: 0.1289 - val_loss: 0.1098 - val_mse: 0.1098\n",
            "Epoch 38/200\n",
            "10/10 [==============================] - 0s 5ms/step - loss: 0.1077 - mse: 0.1077 - val_loss: 0.1088 - val_mse: 0.1088\n",
            "Epoch 39/200\n",
            "10/10 [==============================] - 0s 7ms/step - loss: 0.1105 - mse: 0.1105 - val_loss: 0.0975 - val_mse: 0.0975\n",
            "Epoch 40/200\n",
            "10/10 [==============================] - 0s 5ms/step - loss: 0.1012 - mse: 0.1012 - val_loss: 0.1067 - val_mse: 0.1067\n",
            "Epoch 41/200\n",
            "10/10 [==============================] - 0s 5ms/step - loss: 0.1189 - mse: 0.1189 - val_loss: 0.0971 - val_mse: 0.0971\n",
            "Epoch 42/200\n",
            "10/10 [==============================] - 0s 6ms/step - loss: 0.1110 - mse: 0.1110 - val_loss: 0.1000 - val_mse: 0.1000\n",
            "Epoch 43/200\n",
            "10/10 [==============================] - 0s 5ms/step - loss: 0.1002 - mse: 0.1002 - val_loss: 0.0880 - val_mse: 0.0880\n",
            "Epoch 44/200\n",
            "10/10 [==============================] - 0s 7ms/step - loss: 0.0915 - mse: 0.0915 - val_loss: 0.0951 - val_mse: 0.0951\n",
            "Epoch 45/200\n",
            "10/10 [==============================] - 0s 5ms/step - loss: 0.1015 - mse: 0.1015 - val_loss: 0.1048 - val_mse: 0.1048\n",
            "Epoch 46/200\n",
            "10/10 [==============================] - 0s 5ms/step - loss: 0.0961 - mse: 0.0961 - val_loss: 0.0838 - val_mse: 0.0838\n",
            "Epoch 47/200\n",
            "10/10 [==============================] - 0s 7ms/step - loss: 0.1002 - mse: 0.1002 - val_loss: 0.0864 - val_mse: 0.0864\n",
            "Epoch 48/200\n",
            "10/10 [==============================] - 0s 6ms/step - loss: 0.1060 - mse: 0.1060 - val_loss: 0.1279 - val_mse: 0.1279\n",
            "Epoch 49/200\n",
            "10/10 [==============================] - 0s 5ms/step - loss: 0.1137 - mse: 0.1137 - val_loss: 0.1078 - val_mse: 0.1078\n",
            "Epoch 50/200\n",
            "10/10 [==============================] - 0s 5ms/step - loss: 0.0967 - mse: 0.0967 - val_loss: 0.1178 - val_mse: 0.1178\n",
            "Epoch 51/200\n",
            "10/10 [==============================] - 0s 6ms/step - loss: 0.0979 - mse: 0.0979 - val_loss: 0.1023 - val_mse: 0.1023\n",
            "Epoch 52/200\n",
            "10/10 [==============================] - 0s 5ms/step - loss: 0.0955 - mse: 0.0955 - val_loss: 0.0856 - val_mse: 0.0856\n",
            "Epoch 53/200\n",
            "10/10 [==============================] - 0s 6ms/step - loss: 0.0878 - mse: 0.0878 - val_loss: 0.0897 - val_mse: 0.0897\n",
            "Epoch 54/200\n",
            "10/10 [==============================] - 0s 7ms/step - loss: 0.0925 - mse: 0.0925 - val_loss: 0.0908 - val_mse: 0.0908\n",
            "Epoch 55/200\n",
            "10/10 [==============================] - 0s 7ms/step - loss: 0.1005 - mse: 0.1005 - val_loss: 0.1433 - val_mse: 0.1433\n",
            "Epoch 56/200\n",
            "10/10 [==============================] - 0s 7ms/step - loss: 0.1185 - mse: 0.1185 - val_loss: 0.0968 - val_mse: 0.0968\n",
            "Epoch 57/200\n",
            "10/10 [==============================] - 0s 6ms/step - loss: 0.0961 - mse: 0.0961 - val_loss: 0.0840 - val_mse: 0.0840\n",
            "Epoch 58/200\n",
            "10/10 [==============================] - 0s 7ms/step - loss: 0.0892 - mse: 0.0892 - val_loss: 0.1041 - val_mse: 0.1041\n",
            "Epoch 59/200\n",
            "10/10 [==============================] - 0s 5ms/step - loss: 0.0866 - mse: 0.0866 - val_loss: 0.0788 - val_mse: 0.0788\n",
            "Epoch 60/200\n",
            "10/10 [==============================] - 0s 6ms/step - loss: 0.0879 - mse: 0.0879 - val_loss: 0.0964 - val_mse: 0.0964\n",
            "Epoch 61/200\n",
            "10/10 [==============================] - 0s 5ms/step - loss: 0.0962 - mse: 0.0962 - val_loss: 0.0962 - val_mse: 0.0962\n",
            "Epoch 62/200\n",
            "10/10 [==============================] - 0s 7ms/step - loss: 0.0875 - mse: 0.0875 - val_loss: 0.0821 - val_mse: 0.0821\n",
            "Epoch 63/200\n",
            "10/10 [==============================] - 0s 6ms/step - loss: 0.0872 - mse: 0.0872 - val_loss: 0.0912 - val_mse: 0.0912\n",
            "Epoch 64/200\n",
            "10/10 [==============================] - 0s 7ms/step - loss: 0.0959 - mse: 0.0959 - val_loss: 0.1175 - val_mse: 0.1175\n",
            "Epoch 65/200\n",
            "10/10 [==============================] - 0s 5ms/step - loss: 0.0993 - mse: 0.0993 - val_loss: 0.0901 - val_mse: 0.0901\n",
            "Epoch 66/200\n",
            "10/10 [==============================] - 0s 5ms/step - loss: 0.0850 - mse: 0.0850 - val_loss: 0.0822 - val_mse: 0.0822\n",
            "Epoch 67/200\n",
            "10/10 [==============================] - 0s 6ms/step - loss: 0.0870 - mse: 0.0870 - val_loss: 0.0939 - val_mse: 0.0939\n",
            "Epoch 68/200\n",
            "10/10 [==============================] - 0s 5ms/step - loss: 0.1110 - mse: 0.1110 - val_loss: 0.1242 - val_mse: 0.1242\n",
            "Epoch 69/200\n",
            "10/10 [==============================] - 0s 7ms/step - loss: 0.1050 - mse: 0.1050 - val_loss: 0.1184 - val_mse: 0.1184\n",
            "Epoch 70/200\n",
            "10/10 [==============================] - 0s 5ms/step - loss: 0.1080 - mse: 0.1080 - val_loss: 0.0957 - val_mse: 0.0957\n",
            "Epoch 71/200\n",
            "10/10 [==============================] - 0s 7ms/step - loss: 0.0924 - mse: 0.0924 - val_loss: 0.0822 - val_mse: 0.0822\n",
            "Epoch 72/200\n",
            "10/10 [==============================] - 0s 7ms/step - loss: 0.0844 - mse: 0.0844 - val_loss: 0.0968 - val_mse: 0.0968\n",
            "Epoch 73/200\n",
            "10/10 [==============================] - 0s 7ms/step - loss: 0.0909 - mse: 0.0909 - val_loss: 0.0849 - val_mse: 0.0849\n",
            "Epoch 74/200\n",
            "10/10 [==============================] - 0s 5ms/step - loss: 0.1041 - mse: 0.1041 - val_loss: 0.1142 - val_mse: 0.1142\n",
            "Epoch 75/200\n",
            "10/10 [==============================] - 0s 7ms/step - loss: 0.0862 - mse: 0.0862 - val_loss: 0.0946 - val_mse: 0.0946\n",
            "Epoch 76/200\n",
            "10/10 [==============================] - 0s 6ms/step - loss: 0.0925 - mse: 0.0925 - val_loss: 0.1131 - val_mse: 0.1131\n",
            "Epoch 77/200\n",
            "10/10 [==============================] - 0s 5ms/step - loss: 0.1006 - mse: 0.1006 - val_loss: 0.1012 - val_mse: 0.1012\n",
            "Epoch 78/200\n",
            "10/10 [==============================] - 0s 5ms/step - loss: 0.0927 - mse: 0.0927 - val_loss: 0.1005 - val_mse: 0.1005\n",
            "Epoch 79/200\n",
            "10/10 [==============================] - 0s 5ms/step - loss: 0.0906 - mse: 0.0906 - val_loss: 0.0984 - val_mse: 0.0984\n"
          ]
        }
      ]
    },
    {
      "cell_type": "code",
      "source": [
        "## plot training progress\n",
        "import matplotlib.pyplot as plt\n",
        "\n",
        "plt.plot(history.history['loss'], 'b-', label='loss')\n",
        "plt.plot(history.history['val_loss'], 'r--', label='val_loss')\n",
        "plt.xlabel('Epoch')\n",
        "plt.legend()\n",
        "plt.show()"
      ],
      "metadata": {
        "id": "Mh_FvcgZzHxc",
        "colab": {
          "base_uri": "https://localhost:8080/",
          "height": 282
        },
        "outputId": "857c016a-2d62-436c-e3e5-3dfb1cba2720"
      },
      "execution_count": null,
      "outputs": [
        {
          "output_type": "display_data",
          "data": {
            "text/plain": [
              "<Figure size 432x288 with 1 Axes>"
            ],
            "image/png": "[encoded data removed]"
          },
          "metadata": {
            "needs_background": "light"
          }
        }
      ]
    },
    {
      "cell_type": "code",
      "metadata": {
        "id": "ZKLsdeCMiHut",
        "colab": {
          "base_uri": "https://localhost:8080/"
        },
        "outputId": "9265ef1a-2ca8-4481-d43e-06dc2eeb4e80"
      },
      "source": [
        "## evaluate on the test set.\n",
        "y = model.predict(test_x)\n",
        "print(y)\n",
        "print(y_std)\n",
        "print(y_mean)\n",
        "y_ = (y * y_std) + y_mean\n",
        "print((y[0:5]).flatten())\n",
        "print((y_[0:5]).flatten()) # *1000 달러\n"
      ],
      "execution_count": null,
      "outputs": [
        {
          "output_type": "stream",
          "name": "stdout",
          "text": [
            "[[-0.13298208]\n",
            " [-0.05972606]\n",
            " [-0.5185575 ]\n",
            " [-0.57670814]\n",
            " [-0.09462661]\n",
            " [ 0.8935842 ]\n",
            " [ 1.1077273 ]\n",
            " [-0.3687933 ]\n",
            " [-0.65234715]\n",
            " [-1.3941162 ]\n",
            " [ 0.6219062 ]\n",
            " [-0.33960587]\n",
            " [-0.5440064 ]\n",
            " [-0.3614362 ]\n",
            " [ 0.19571042]\n",
            " [-1.0915151 ]\n",
            " [-0.7951378 ]\n",
            " [-0.683363  ]\n",
            " [ 1.1825589 ]\n",
            " [-0.66652423]\n",
            " [-0.27061993]\n",
            " [-0.07932407]\n",
            " [ 0.21617073]\n",
            " [-0.6145939 ]\n",
            " [-0.5639964 ]\n",
            " [-0.32373863]\n",
            " [-1.1170533 ]\n",
            " [-0.16628832]\n",
            " [-0.12122017]\n",
            " [-1.3049984 ]\n",
            " [-0.40618163]\n",
            " [ 0.93604845]\n",
            " [-0.37865704]\n",
            " [-0.32348675]\n",
            " [ 0.02049237]\n",
            " [ 0.9190501 ]\n",
            " [ 0.24973118]\n",
            " [ 0.78936255]\n",
            " [-0.5908124 ]\n",
            " [ 1.0400114 ]\n",
            " [-0.7734886 ]\n",
            " [-0.04573089]\n",
            " [-0.29097778]\n",
            " [-0.12594277]\n",
            " [-0.01465076]\n",
            " [-0.02706236]\n",
            " [-1.5485504 ]\n",
            " [-0.79005986]\n",
            " [-1.1698883 ]\n",
            " [-0.5820001 ]\n",
            " [ 0.12280101]\n",
            " [-0.5362645 ]\n",
            " [-0.46689922]\n",
            " [-0.08307391]\n",
            " [-0.9034317 ]\n",
            " [-0.87781435]\n",
            " [ 0.91707087]\n",
            " [ 1.2828207 ]\n",
            " [ 0.85982275]\n",
            " [ 0.91455805]\n",
            " [-0.5140541 ]\n",
            " [-0.2974611 ]\n",
            " [-0.62549   ]\n",
            " [-0.7582577 ]\n",
            " [ 1.1008056 ]\n",
            " [ 2.4149446 ]\n",
            " [-0.6596275 ]\n",
            " [ 0.9716519 ]\n",
            " [-0.1157797 ]\n",
            " [-0.33387405]\n",
            " [ 0.0676778 ]\n",
            " [ 0.28111094]\n",
            " [-0.37433988]\n",
            " [-0.83281666]\n",
            " [-0.3955043 ]\n",
            " [-1.2055995 ]\n",
            " [-1.0666711 ]\n",
            " [-0.34981602]\n",
            " [ 0.12562728]\n",
            " [-0.68056256]\n",
            " [ 0.10341609]\n",
            " [-0.38330942]\n",
            " [-0.84840184]\n",
            " [-1.6891713 ]\n",
            " [ 2.0601947 ]\n",
            " [-1.6784396 ]\n",
            " [ 0.19973874]\n",
            " [ 0.25512642]\n",
            " [-0.45064265]\n",
            " [-0.6501959 ]\n",
            " [-0.5426044 ]\n",
            " [ 2.0147445 ]\n",
            " [ 1.1453695 ]\n",
            " [ 0.08666652]\n",
            " [-0.9842687 ]\n",
            " [-0.2558201 ]\n",
            " [ 0.7004039 ]\n",
            " [ 2.4499526 ]\n",
            " [-0.23147827]\n",
            " [-0.2623164 ]\n",
            " [-0.33517653]\n",
            " [ 1.0639987 ]]\n",
            "9.163389176814665\n",
            "22.42673267326732\n",
            "[-0.13298208 -0.05972606 -0.5185575  -0.57670814 -0.09462661]\n",
            "[21.208166 21.87944  17.674988 17.142132 21.559633]\n"
          ]
        }
      ]
    },
    {
      "cell_type": "code",
      "source": [
        "## print prediction data\n",
        "print(np.round(y_[0:20].flatten(), 1))\n",
        "print(test_y_orig[0:20])"
      ],
      "metadata": {
        "id": "CgYwJEGsrMRh",
        "colab": {
          "base_uri": "https://localhost:8080/"
        },
        "outputId": "f7403602-e3d1-4833-f424-c26c60669ede"
      },
      "execution_count": null,
      "outputs": [
        {
          "output_type": "stream",
          "name": "stdout",
          "text": [
            "[23.9 23.4 18.4 18.5 22.7 30.8 32.4 29.2 11.3 15.8 31.2 22.2 19.  25.5\n",
            " 23.9 10.8 22.4 14.7 26.2 17.1]\n",
            "[24.  22.1 17.5 19.3 24.8 36.2 32.2 15.  13.5  6.3 29.4 20.6 17.6 16.6\n",
            " 23.7 11.5 20.1 18.1 23.9 27.5]\n"
          ]
        }
      ]
    },
    {
      "cell_type": "code",
      "source": [
        "## print answer(test_y) data\n"
      ],
      "metadata": {
        "id": "t_5SAY5vtHm3"
      },
      "execution_count": null,
      "outputs": []
    },
    {
      "cell_type": "code",
      "source": [
        "## compare prediction to answer"
      ],
      "metadata": {
        "id": "0oTozOde5edZ"
      },
      "execution_count": null,
      "outputs": []
    },
    {
      "cell_type": "markdown",
      "source": [
        "Using RMSE (root mean square error)"
      ],
      "metadata": {
        "id": "MaltH-Dn9yEa"
      }
    },
    {
      "cell_type": "code",
      "source": [
        "## RMSE value\n",
        "print(\"prediction\", np.round(y_.flatten()[0:5],1))\n",
        "print(\"answer\", test_y_orig[0:5])\n",
        "print(\"-\"*30)\n",
        "print((y_.flatten() - test_y_orig)[0:5])\n",
        "print(\"-\"*30)\n",
        "print('max error:', (y_.flatten() - test_y_orig).max())\n",
        "print('min error:', (y_.flatten() - test_y_orig).min())\n",
        "\n",
        "RMSE = np.sqrt(np.mean(np.square(y_.flatten() - test_y_orig)))\n",
        "print('RMSE: ', RMSE)\n"
      ],
      "metadata": {
        "id": "Llf4hv4x9xYc",
        "colab": {
          "base_uri": "https://localhost:8080/"
        },
        "outputId": "e10358aa-5b74-4251-810d-7cefebd3be0b"
      },
      "execution_count": null,
      "outputs": [
        {
          "output_type": "stream",
          "name": "stdout",
          "text": [
            "prediction [23.9 23.4 18.4 18.5 22.7]\n",
            "answer [24.  22.1 17.5 19.3 24.8]\n",
            "------------------------------\n",
            "[-0.07685471  1.32778969  0.911026   -0.78650742 -2.14705544]\n",
            "------------------------------\n",
            "max error: 14.230611801147461\n",
            "min error: -26.606876373291016\n",
            "RMSE:  4.906571145048069\n"
          ]
        }
      ]
    },
    {
      "cell_type": "code",
      "source": [
        "## plot results\n",
        "import matplotlib.pyplot as plt\n",
        "\n",
        "pred_y = model.predict(test_x)\n",
        "\n",
        "plt.figure(figsize=(5,5))\n",
        "plt.plot(test_y, pred_y, 'b.')\n",
        "plt.axis([min(test_y), max(test_y), min(test_y), max(test_y)])\n",
        "\n",
        "# y=x에 해당하는 대각선\n",
        "plt.plot([min(test_y), max(test_y)], [min(test_y), max(test_y)], ls=\"--\", c=\".3\")\n",
        "plt.xlabel('test_Y')\n",
        "plt.ylabel('pred_Y')\n",
        "\n",
        "plt.show()\n"
      ],
      "metadata": {
        "id": "AXTOixim1E5f",
        "colab": {
          "base_uri": "https://localhost:8080/",
          "height": 338
        },
        "outputId": "7ae1f1bf-5ef4-421c-f1f3-5bec9d9d6f66"
      },
      "execution_count": null,
      "outputs": [
        {
          "output_type": "display_data",
          "data": {
            "text/plain": [
              "<Figure size 360x360 with 1 Axes>"
            ],
            "image/png": "[encoded data removed]"
          },
          "metadata": {
            "needs_background": "light"
          }
        }
      ]
    }
  ]
}